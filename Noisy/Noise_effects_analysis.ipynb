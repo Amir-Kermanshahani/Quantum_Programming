{
  "nbformat": 4,
  "nbformat_minor": 0,
  "metadata": {
    "colab": {
      "provenance": []
    },
    "kernelspec": {
      "name": "python3",
      "display_name": "Python 3"
    },
    "language_info": {
      "name": "python"
    }
  },
  "cells": [
    {
      "cell_type": "markdown",
      "source": [
        "Here I implement different kind of noises available in PennyLane library to simple example circuits to analyze their effects."
      ],
      "metadata": {
        "id": "jnqX2XglZbEm"
      }
    },
    {
      "cell_type": "markdown",
      "source": [
        "## 1. Classical parameter randomization"
      ],
      "metadata": {
        "id": "jlyn8GtSZk4F"
      }
    },
    {
      "cell_type": "code",
      "source": [
        "!pip install pennylane"
      ],
      "metadata": {
        "id": "BuXkHQC8aTXa"
      },
      "execution_count": null,
      "outputs": []
    },
    {
      "cell_type": "markdown",
      "source": [
        "Performing a noisy X rotation with a random angle theta, then measuring Z."
      ],
      "metadata": {
        "id": "ExM0O4QAcDf9"
      }
    },
    {
      "cell_type": "code",
      "execution_count": 2,
      "metadata": {
        "id": "kAGe4dVPZU9v"
      },
      "outputs": [],
      "source": [
        "import pennylane as qml\n",
        "from pennylane import numpy as np\n",
        "\n",
        "dev1 = qml.device(\"default.qubit\", wires=1)\n",
        "\n",
        "@qml.qnode(dev1)\n",
        "def rot_circuit(prec):\n",
        "    rand_angle = np.pi + prec*np.random.rand()\n",
        "    qml.RX(rand_angle, wires=0)\n",
        "    return qml.expval(qml.PauliZ(0))"
      ]
    },
    {
      "cell_type": "markdown",
      "source": [
        "We run the circuit with large random rotations 2 times to see the results."
      ],
      "metadata": {
        "id": "NEnuL3zua4-B"
      }
    },
    {
      "cell_type": "code",
      "source": [
        "rot_circuit(4)"
      ],
      "metadata": {
        "colab": {
          "base_uri": "https://localhost:8080/"
        },
        "id": "0hecfFgMaiYq",
        "outputId": "656d354b-625d-445e-b25b-aec3ceb24654"
      },
      "execution_count": 3,
      "outputs": [
        {
          "output_type": "execute_result",
          "data": {
            "text/plain": [
              "tensor(0.07440198, requires_grad=True)"
            ]
          },
          "metadata": {},
          "execution_count": 3
        }
      ]
    },
    {
      "cell_type": "code",
      "source": [
        "rot_circuit(4)"
      ],
      "metadata": {
        "colab": {
          "base_uri": "https://localhost:8080/"
        },
        "id": "DBkJ2WEfamk9",
        "outputId": "16b8e6a5-fc3b-4671-ea87-ce55e9076c31"
      },
      "execution_count": 4,
      "outputs": [
        {
          "output_type": "execute_result",
          "data": {
            "text/plain": [
              "tensor(-0.58125668, requires_grad=True)"
            ]
          },
          "metadata": {},
          "execution_count": 4
        }
      ]
    },
    {
      "cell_type": "markdown",
      "source": [
        "We see that for large random rotations, the expectation value of Z fluctuates wildly."
      ],
      "metadata": {
        "id": "QEtYY-JIbDex"
      }
    },
    {
      "cell_type": "markdown",
      "source": [
        "Now we run the circuit with low random rotations for 2 times."
      ],
      "metadata": {
        "id": "AVf3BMa-bO9n"
      }
    },
    {
      "cell_type": "code",
      "source": [
        "rot_circuit(0.1)"
      ],
      "metadata": {
        "colab": {
          "base_uri": "https://localhost:8080/"
        },
        "id": "Wgeu4Z4Hani9",
        "outputId": "e33711f2-f0b3-4920-aa02-344e6fc947ad"
      },
      "execution_count": 5,
      "outputs": [
        {
          "output_type": "execute_result",
          "data": {
            "text/plain": [
              "tensor(-0.99576195, requires_grad=True)"
            ]
          },
          "metadata": {},
          "execution_count": 5
        }
      ]
    },
    {
      "cell_type": "code",
      "source": [
        "rot_circuit(0.1)"
      ],
      "metadata": {
        "colab": {
          "base_uri": "https://localhost:8080/"
        },
        "id": "rkUqCQWKatMs",
        "outputId": "82c9d935-8e4d-4aaf-c90e-ba8db16cdc02"
      },
      "execution_count": 6,
      "outputs": [
        {
          "output_type": "execute_result",
          "data": {
            "text/plain": [
              "tensor(-0.99978885, requires_grad=True)"
            ]
          },
          "metadata": {},
          "execution_count": 6
        }
      ]
    },
    {
      "cell_type": "markdown",
      "source": [
        "We see that for small random rotations, the expectation value of Z doesn't change dramatically and changes to a small amount around -1."
      ],
      "metadata": {
        "id": "Hi34krL3bWkN"
      }
    },
    {
      "cell_type": "markdown",
      "source": [
        "## 2. BitFlip Noise\n",
        "BitFlip noise applies an X operation with probability p and does nothing otherwise. This noise is applied to consider the effects of cosmic rays on terrestrial computations (sort of). Quantum noises like BitFlip are applied using channels."
      ],
      "metadata": {
        "id": "rTBJuGD7cVVG"
      }
    },
    {
      "cell_type": "code",
      "source": [
        "#Preparing a device\n",
        "dev2 = qml.device('default.mixed', wires=1)"
      ],
      "metadata": {
        "id": "5qbF-v_RdBi6"
      },
      "execution_count": 7,
      "outputs": []
    },
    {
      "cell_type": "code",
      "source": [
        "#Preparing the BitFlip testing circuit\n",
        "@qml.qnode(dev2)\n",
        "def bitflip_circuit(p):\n",
        "    qml.BitFlip(p, wires=0)\n",
        "    return qml.expval(qml.PauliZ(0))"
      ],
      "metadata": {
        "id": "00dReP9OdPQQ"
      },
      "execution_count": 8,
      "outputs": []
    },
    {
      "cell_type": "markdown",
      "source": [
        "Running the circuit for 2 times with different probabilities to see the results."
      ],
      "metadata": {
        "id": "53GFaqkydutM"
      }
    },
    {
      "cell_type": "code",
      "source": [
        "bitflip_circuit(0.01)"
      ],
      "metadata": {
        "colab": {
          "base_uri": "https://localhost:8080/"
        },
        "id": "40CJWh6OdtsV",
        "outputId": "25ff2ae0-662c-4e96-f5ab-eb904f2a95fe"
      },
      "execution_count": 9,
      "outputs": [
        {
          "output_type": "execute_result",
          "data": {
            "text/plain": [
              "array(0.98)"
            ]
          },
          "metadata": {},
          "execution_count": 9
        }
      ]
    },
    {
      "cell_type": "code",
      "source": [
        "bitflip_circuit(0.99)"
      ],
      "metadata": {
        "colab": {
          "base_uri": "https://localhost:8080/"
        },
        "id": "kaunmwwQd6Yh",
        "outputId": "3de4e345-1069-4633-8a8d-60021ddf6a1a"
      },
      "execution_count": 10,
      "outputs": [
        {
          "output_type": "execute_result",
          "data": {
            "text/plain": [
              "array(-0.98)"
            ]
          },
          "metadata": {},
          "execution_count": 10
        }
      ]
    },
    {
      "cell_type": "markdown",
      "source": [
        "## 3. PhaseFlip Noise\n",
        "BitFlip noise applies a Z operation with probability p and does nothing otherwise.\n",
        "The phase flip impacts the relative phase between ∣0⟩ and ∣1⟩ but does not alter the probability distribution of these states."
      ],
      "metadata": {
        "id": "A_bscNvOeDHN"
      }
    },
    {
      "cell_type": "code",
      "source": [
        "#Preparing a device\n",
        "dev3 = qml.device('default.mixed', wires=1)"
      ],
      "metadata": {
        "id": "aSLSQWAwec0U"
      },
      "execution_count": 26,
      "outputs": []
    },
    {
      "cell_type": "code",
      "source": [
        "@qml.qnode(dev3)\n",
        "def phaseflip_circuit(p):\n",
        "    qml.Hadamard(wires=0)  # Puts qubit in |+> state\n",
        "    qml.PhaseFlip(p, wires=0)\n",
        "    return qml.state()"
      ],
      "metadata": {
        "id": "HfVudGK_XGTS"
      },
      "execution_count": 30,
      "outputs": []
    },
    {
      "cell_type": "code",
      "source": [
        "phaseflip_circuit(0.01)"
      ],
      "metadata": {
        "colab": {
          "base_uri": "https://localhost:8080/"
        },
        "id": "Q2aDmEVUembd",
        "outputId": "069a1684-6f83-4657-9833-a5914fb21934"
      },
      "execution_count": 31,
      "outputs": [
        {
          "output_type": "execute_result",
          "data": {
            "text/plain": [
              "array([[0.5 +0.j, 0.49+0.j],\n",
              "       [0.49+0.j, 0.5 +0.j]])"
            ]
          },
          "metadata": {},
          "execution_count": 31
        }
      ]
    },
    {
      "cell_type": "code",
      "source": [
        "phaseflip_circuit(0.99)"
      ],
      "metadata": {
        "colab": {
          "base_uri": "https://localhost:8080/"
        },
        "id": "x80ATCV1er2h",
        "outputId": "b31e879c-6dc2-4967-c105-f41667cb7433"
      },
      "execution_count": 32,
      "outputs": [
        {
          "output_type": "execute_result",
          "data": {
            "text/plain": [
              "array([[ 0.5 +0.j, -0.49+0.j],\n",
              "       [-0.49+0.j,  0.5 +0.j]])"
            ]
          },
          "metadata": {},
          "execution_count": 32
        }
      ]
    },
    {
      "cell_type": "markdown",
      "source": [
        "## 4. Amplitude Damping\n",
        "This type of noise models the process where energy is lost from the qubit, often representing relaxation to the ground state ∣0⟩ due to environmental interactions.\n",
        "It reduces the probability of measuring ∣1⟩ as the qubit relaxes to ∣0⟩, mimicking energy loss."
      ],
      "metadata": {
        "id": "K54O8esJekrF"
      }
    },
    {
      "cell_type": "code",
      "source": [
        "#Preparing a device\n",
        "dev4 = qml.device('default.mixed', wires=1)"
      ],
      "metadata": {
        "id": "IfPmoMEEfBOb"
      },
      "execution_count": 33,
      "outputs": []
    },
    {
      "cell_type": "code",
      "source": [
        "@qml.qnode(dev4)\n",
        "def amplitude_damping_circuit(p):\n",
        "    qml.PauliX(wires=0)  # Initialize the qubit to |1> state\n",
        "    qml.AmplitudeDamping(p, wires=0)\n",
        "    return qml.state()"
      ],
      "metadata": {
        "id": "RTp80oz4fE9t"
      },
      "execution_count": 34,
      "outputs": []
    },
    {
      "cell_type": "code",
      "source": [
        "amplitude_damping_circuit(0.01)"
      ],
      "metadata": {
        "colab": {
          "base_uri": "https://localhost:8080/"
        },
        "id": "TtDP_0XjfM46",
        "outputId": "aff0ec0e-b8a2-4df6-de2b-2bd63a247c08"
      },
      "execution_count": 35,
      "outputs": [
        {
          "output_type": "execute_result",
          "data": {
            "text/plain": [
              "array([[0.01+0.j, 0.  +0.j],\n",
              "       [0.  +0.j, 0.99+0.j]])"
            ]
          },
          "metadata": {},
          "execution_count": 35
        }
      ]
    },
    {
      "cell_type": "code",
      "source": [
        "amplitude_damping_circuit(0.99)"
      ],
      "metadata": {
        "colab": {
          "base_uri": "https://localhost:8080/"
        },
        "id": "X1WMzvXYfPAk",
        "outputId": "ee1d5721-0160-4887-8eba-104755cff597"
      },
      "execution_count": 36,
      "outputs": [
        {
          "output_type": "execute_result",
          "data": {
            "text/plain": [
              "array([[0.99+0.j, 0.  +0.j],\n",
              "       [0.  +0.j, 0.01+0.j]])"
            ]
          },
          "metadata": {},
          "execution_count": 36
        }
      ]
    },
    {
      "cell_type": "markdown",
      "source": [
        "## 5. Phase Damping\n",
        "This type of noise causes the loss of quantum information without energy loss. It results in the decay of off-diagonal terms in the density matrix, affecting superposition coherence while leaving the population in ∣0⟩ and ∣1⟩ unchanged.\n",
        "Phase damping reduces the visibility of interference in superposition states, which manifests as a loss of coherence in the system."
      ],
      "metadata": {
        "id": "aGeN2vI_fYZe"
      }
    },
    {
      "cell_type": "code",
      "source": [
        "#Preparing a device\n",
        "dev5 = qml.device('default.mixed', wires=1)"
      ],
      "metadata": {
        "id": "sYFgLzkMfXgb"
      },
      "execution_count": 37,
      "outputs": []
    },
    {
      "cell_type": "code",
      "source": [
        "@qml.qnode(dev5)\n",
        "def phase_damping_circuit(p):\n",
        "    qml.Hadamard(wires=0)  # Puts qubit in |+> state\n",
        "    qml.PhaseDamping(p, wires=0)\n",
        "    return qml.state()"
      ],
      "metadata": {
        "id": "Quu_1cQ6fovM"
      },
      "execution_count": 38,
      "outputs": []
    },
    {
      "cell_type": "code",
      "source": [
        "phase_damping_circuit(0.01)"
      ],
      "metadata": {
        "colab": {
          "base_uri": "https://localhost:8080/"
        },
        "id": "xztjLPu9fuOe",
        "outputId": "d3904876-3019-48fc-a353-e73089ca9c38"
      },
      "execution_count": 39,
      "outputs": [
        {
          "output_type": "execute_result",
          "data": {
            "text/plain": [
              "array([[0.5       +0.j, 0.49749372+0.j],\n",
              "       [0.49749372+0.j, 0.5       +0.j]])"
            ]
          },
          "metadata": {},
          "execution_count": 39
        }
      ]
    },
    {
      "cell_type": "code",
      "source": [
        "phase_damping_circuit(0.99)"
      ],
      "metadata": {
        "colab": {
          "base_uri": "https://localhost:8080/"
        },
        "id": "C-lhw67ofvIy",
        "outputId": "e3b3299b-fffa-4bcd-802f-bfa39e0b68b8"
      },
      "execution_count": 40,
      "outputs": [
        {
          "output_type": "execute_result",
          "data": {
            "text/plain": [
              "array([[0.5 +0.j, 0.05+0.j],\n",
              "       [0.05+0.j, 0.5 +0.j]])"
            ]
          },
          "metadata": {},
          "execution_count": 40
        }
      ]
    },
    {
      "cell_type": "markdown",
      "source": [
        "## 6. Depolarizing Channel\n",
        "The depolarizing channel applies a probabilistic error where the qubit state is randomized to either the ∣0⟩ or ∣1⟩ state with equal probability, effectively introducing a \"mixed\" state. This is typically used to simulate arbitrary errors in a quantum system.\n",
        "Depolarizing noise introduces uncertainty into the state, and the qubit will tend to a fully mixed state over multiple applications."
      ],
      "metadata": {
        "id": "h3LpqoYriUTU"
      }
    },
    {
      "cell_type": "code",
      "source": [
        "#Preparing a device\n",
        "dev6 = qml.device('default.mixed', wires=1)"
      ],
      "metadata": {
        "id": "h7DYZUeYilZ-"
      },
      "execution_count": 41,
      "outputs": []
    },
    {
      "cell_type": "code",
      "source": [
        "@qml.qnode(dev6)\n",
        "def depolarizing_circuit(p):\n",
        "    qml.Hadamard(wires=0)  # Puts qubit in |+> state\n",
        "    qml.DepolarizingChannel(p, wires=0)\n",
        "    return qml.state()"
      ],
      "metadata": {
        "id": "wJDYbwoIimoX"
      },
      "execution_count": 47,
      "outputs": []
    },
    {
      "cell_type": "code",
      "source": [
        "depolarizing_circuit(0.01)"
      ],
      "metadata": {
        "colab": {
          "base_uri": "https://localhost:8080/"
        },
        "id": "DkejI_49iskh",
        "outputId": "f9da4a56-1789-46a0-e4c3-0b46d660e08a"
      },
      "execution_count": 48,
      "outputs": [
        {
          "output_type": "execute_result",
          "data": {
            "text/plain": [
              "array([[0.5       +0.j, 0.49333333+0.j],\n",
              "       [0.49333333+0.j, 0.5       +0.j]])"
            ]
          },
          "metadata": {},
          "execution_count": 48
        }
      ]
    },
    {
      "cell_type": "code",
      "source": [
        "depolarizing_circuit(0.99)"
      ],
      "metadata": {
        "colab": {
          "base_uri": "https://localhost:8080/"
        },
        "id": "oJDF2D5zitm6",
        "outputId": "f97ca284-c278-4918-8052-140ae56b5f41"
      },
      "execution_count": 49,
      "outputs": [
        {
          "output_type": "execute_result",
          "data": {
            "text/plain": [
              "array([[ 0.5 +0.j, -0.16+0.j],\n",
              "       [-0.16+0.j,  0.5 +0.j]])"
            ]
          },
          "metadata": {},
          "execution_count": 49
        }
      ]
    }
  ]
}